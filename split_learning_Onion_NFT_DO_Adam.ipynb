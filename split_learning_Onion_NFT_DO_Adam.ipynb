{
 "cells": [
  {
   "cell_type": "code",
   "execution_count": null,
   "id": "cecdaa1f",
   "metadata": {},
   "outputs": [],
   "source": [
    "import syft as sy\n",
    "duet = sy.duet(loopback=True)"
   ]
  },
  {
   "cell_type": "code",
   "execution_count": null,
   "id": "84227bb9",
   "metadata": {},
   "outputs": [],
   "source": []
  },
  {
   "cell_type": "code",
   "execution_count": null,
   "id": "70c57f8a",
   "metadata": {},
   "outputs": [],
   "source": [
    "import torch\n",
    "import numpy as np\n",
    "#Define and send our dummy input data\n",
    "\n",
    "data = torch.tensor([[45,16.68,26,179.573,64.58],[51,15.18,30,179.573,50.75],[49,15.6,28,179.573,26.39],\n",
    "[68,9.8,32,41.1,18.03],[83,6.43,31,95.8,96.61],[88,5.9,30,162.7,214.52],\n",
    "[92,4.85,27,275,630.52],[92,14.03,26,248,1149.32],[86,8.19,27,822.6,1054.10],\n",
    "[87,8.29,26,148.2,500.58],[70,12.23,27,179.573,147.80],[54,16.53,27,179.573,61.71],\n",
    "[71,12.14,27,179.573,41.35],[67,14.13,29,179.573,33.79],[49,12.63,30,179.573,13.45],\n",
    "[82,6.98,30,106.5,17.97],[85,5.6,30,128.4,65.10],[88,3.1,28,105.9,110.90],\n",
    "[88,5.66,27,173.9,279.74],[93,8.14,27,398,1431.29],[90,18.14,27,254,1130.00],\n",
    "[89,9.94,28,199.2,500.58],[65,14.25,27,179.573,147.80],[47,17.28,26,179.573,61.71],\n",
    "[50,15.18,24,179.573,30.42],[50,16.54,25,179.573,26.03],[75,12.32,31,179.573,10.84],\n",
    "[88,8.29,31,28.9,9.87],[96,4.63,30,128.9,88.61],[98,5.02,29,153.9,171.21],\n",
    "[96,3.37,26,305.7,303.61],[99,4.4,26,373.5,1022.29],[99,9.73,28,297.6,1042.20],\n",
    "[93,10.98,28,53.7,357.71],[76,16.15,28,179.573,89.00],[72,14.28,27,179.573,61.42],\n",
    "[50,18.63,23,179.573,51.39],[56,15.63,27,179.573,27.93],[64,12.63,29,0.3,13.19],\n",
    "[95,9.28,31,218.4,34.93]])\n",
    "\n",
    "\n",
    "data.send(duet, tags=[\"dataset\"], description=\"Independent features Temp,WC,NL,N(UC),Fe(UC),B(UC)\", pointable=True)\n",
    "data.shape"
   ]
  },
  {
   "cell_type": "code",
   "execution_count": null,
   "id": "08340112",
   "metadata": {},
   "outputs": [],
   "source": []
  },
  {
   "cell_type": "code",
   "execution_count": null,
   "id": "5ab865ea",
   "metadata": {},
   "outputs": [],
   "source": [
    "duet.requests.add_handler(action=\"accept\")"
   ]
  },
  {
   "cell_type": "code",
   "execution_count": null,
   "id": "a1153fa2",
   "metadata": {
    "scrolled": true
   },
   "outputs": [],
   "source": [
    "duet.store.pandas"
   ]
  },
  {
   "cell_type": "code",
   "execution_count": null,
   "id": "a5fc2def",
   "metadata": {},
   "outputs": [],
   "source": []
  },
  {
   "cell_type": "code",
   "execution_count": null,
   "id": "2f0f059d",
   "metadata": {},
   "outputs": [],
   "source": []
  }
 ],
 "metadata": {
  "kernelspec": {
   "display_name": "Python 3 (ipykernel)",
   "language": "python",
   "name": "python3"
  },
  "language_info": {
   "codemirror_mode": {
    "name": "ipython",
    "version": 3
   },
   "file_extension": ".py",
   "mimetype": "text/x-python",
   "name": "python",
   "nbconvert_exporter": "python",
   "pygments_lexer": "ipython3",
   "version": "3.7.13"
  }
 },
 "nbformat": 4,
 "nbformat_minor": 5
}
