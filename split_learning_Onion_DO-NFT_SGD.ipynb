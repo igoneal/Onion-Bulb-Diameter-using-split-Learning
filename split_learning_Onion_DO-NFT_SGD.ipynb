{
 "cells": [
  {
   "cell_type": "code",
   "execution_count": null,
   "id": "cecdaa1f",
   "metadata": {},
   "outputs": [],
   "source": [
    "import syft as sy\n",
    "duet = sy.duet(loopback=True)"
   ]
  },
  {
   "cell_type": "code",
   "execution_count": null,
   "id": "70c57f8a",
   "metadata": {},
   "outputs": [],
   "source": [
    "import torch\n",
    "import numpy as np\n",
    "#Define and send our dummy input data\n",
    "\n",
    "data = torch.tensor([[18.3,0.09,5.88,12.7,7.64,3.3],[19.8,0.1,5.94,12.81,7.79,3.5],\n",
    "                     [18.3,0.11,6.05,12.93,7.83,3.6],[16.9,0.12,6.09,13.14,8.45,3.7],\n",
    "                     [18.9,0.13,6.13,13.22,9.61,3.8],[17,0.14,6.18,13.36,9.73,4],\n",
    "                     [17.5,0.15,6.25,13.58,10.07,4.15],[17.8,0.16,6.34,14.23,10.18,4.2],\n",
    "                     [18.6,0.17,6.49,14.35,10.32,4.3],[18.4,0.18,6.51,14.46,10.57,4.4]])\n",
    "\n",
    "data.send(duet, tags=[\"dataset\"], description=\"Independent features Temp,WC,NL,N(UC),Fe(UC),B(UC)\", pointable=True)\n",
    "data.shape"
   ]
  },
  {
   "cell_type": "code",
   "execution_count": null,
   "id": "5ab865ea",
   "metadata": {},
   "outputs": [],
   "source": [
    "duet.requests.add_handler(action=\"accept\")"
   ]
  },
  {
   "cell_type": "code",
   "execution_count": null,
   "id": "a1153fa2",
   "metadata": {
    "scrolled": true
   },
   "outputs": [],
   "source": [
    "duet.store.pandas"
   ]
  },
  {
   "cell_type": "code",
   "execution_count": null,
   "id": "2f0f059d",
   "metadata": {},
   "outputs": [],
   "source": []
  }
 ],
 "metadata": {
  "kernelspec": {
   "display_name": "Python 3 (ipykernel)",
   "language": "python",
   "name": "python3"
  },
  "language_info": {
   "codemirror_mode": {
    "name": "ipython",
    "version": 3
   },
   "file_extension": ".py",
   "mimetype": "text/x-python",
   "name": "python",
   "nbconvert_exporter": "python",
   "pygments_lexer": "ipython3",
   "version": "3.7.13"
  }
 },
 "nbformat": 4,
 "nbformat_minor": 5
}
