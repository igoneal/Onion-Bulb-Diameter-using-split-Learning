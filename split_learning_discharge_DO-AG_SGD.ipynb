{
 "cells": [
  {
   "cell_type": "code",
   "execution_count": null,
   "id": "cecdaa1f",
   "metadata": {},
   "outputs": [],
   "source": [
    "import syft as sy\n",
    "duet = sy.duet(loopback=True)"
   ]
  },
  {
   "cell_type": "code",
   "execution_count": null,
   "id": "70c57f8a",
   "metadata": {},
   "outputs": [],
   "source": [
    "import torch\n",
    "import numpy as np\n",
    "#Define and send our dummy input data\n",
    "\n",
    "data = torch.tensor([[18.3,0.08,7,2.7,8.4,3.3],[19.8,0.13,7.13,3.8,8.51,4.2],\n",
    "                     [18.3,0.24,7.21,4.1,8.63,5.5],[16.9,0.36,7.34,4.3,8.77,5.9],\n",
    "                     [18.9,0.48,7.46,5.4,8.94,6.2],[17,0.57,7.59,5.5,9.3,6.8],\n",
    "                     [17.5,0.61,7.63,5.9,9.44,7.21],[17.8,0.93,7.71,6.17,9.5,27.44],\n",
    "                     [18.6,1.04,7.8,6.31,9.68,8.3],[18.4,1.15,7.94,6.49,9.76,8.6]])\n",
    "\n",
    "\n",
    "data.send(duet, tags=[\"dataset\"], description=\"Independent features Temp,WC,NL,N(UC),Fe(UC),B(UC)\", pointable=True)\n",
    "data.shape"
   ]
  },
  {
   "cell_type": "code",
   "execution_count": null,
   "id": "5ab865ea",
   "metadata": {},
   "outputs": [],
   "source": [
    "duet.requests.add_handler(action=\"accept\")"
   ]
  },
  {
   "cell_type": "code",
   "execution_count": null,
   "id": "a1153fa2",
   "metadata": {
    "scrolled": true
   },
   "outputs": [],
   "source": [
    "duet.store.pandas"
   ]
  },
  {
   "cell_type": "code",
   "execution_count": null,
   "id": "2f0f059d",
   "metadata": {},
   "outputs": [],
   "source": []
  }
 ],
 "metadata": {
  "kernelspec": {
   "display_name": "Python 3 (ipykernel)",
   "language": "python",
   "name": "python3"
  },
  "language_info": {
   "codemirror_mode": {
    "name": "ipython",
    "version": 3
   },
   "file_extension": ".py",
   "mimetype": "text/x-python",
   "name": "python",
   "nbconvert_exporter": "python",
   "pygments_lexer": "ipython3",
   "version": "3.7.13"
  }
 },
 "nbformat": 4,
 "nbformat_minor": 5
}
