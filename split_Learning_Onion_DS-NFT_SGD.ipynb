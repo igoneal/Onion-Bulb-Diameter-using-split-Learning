{
 "cells": [
  {
   "cell_type": "code",
   "execution_count": null,
   "id": "c4d26bca",
   "metadata": {},
   "outputs": [],
   "source": [
    "!pip install matplotlib"
   ]
  },
  {
   "cell_type": "code",
   "execution_count": null,
   "id": "5e26bde6",
   "metadata": {},
   "outputs": [],
   "source": [
    "import syft as sy\n",
    "%matplotlib inline\n",
    "duet = sy.join_duet(loopback=True)"
   ]
  },
  {
   "cell_type": "code",
   "execution_count": null,
   "id": "e694dd4d",
   "metadata": {},
   "outputs": [],
   "source": [
    "class SyNet(sy.Module):\n",
    "    def __init__(self, torch_ref):\n",
    "        super(SyNet, self).__init__(torch_ref=torch_ref)\n",
    "        \n",
    "        self.lin =self.torch_ref.nn.Linear(6,10)\n",
    "    def forward(self, x):\n",
    "        x = self.lin(x)\n",
    "        return x"
   ]
  },
  {
   "cell_type": "code",
   "execution_count": null,
   "id": "a6f187df",
   "metadata": {},
   "outputs": [],
   "source": [
    "import torch\n",
    "model1 = SyNet(torch)\n",
    "model1_ptr = model1.send(duet)"
   ]
  },
  {
   "cell_type": "code",
   "execution_count": null,
   "id": "149dacf4",
   "metadata": {},
   "outputs": [],
   "source": [
    "opt1 = duet.torch.optim.SGD(params=model1_ptr.parameters(),lr=0.00001)"
   ]
  },
  {
   "cell_type": "code",
   "execution_count": null,
   "id": "f6316e12",
   "metadata": {
    "scrolled": true
   },
   "outputs": [],
   "source": [
    "duet.store.pandas"
   ]
  },
  {
   "cell_type": "code",
   "execution_count": null,
   "id": "d94e86b0",
   "metadata": {},
   "outputs": [],
   "source": [
    "data_pointer = duet.store[0]"
   ]
  },
  {
   "cell_type": "code",
   "execution_count": null,
   "id": "a486f4ff",
   "metadata": {},
   "outputs": [],
   "source": [
    "import numpy as np"
   ]
  },
  {
   "cell_type": "code",
   "execution_count": null,
   "id": "595fcf25",
   "metadata": {},
   "outputs": [],
   "source": [
    "\n",
    "model2 = torch.nn.Linear(10,6)\n",
    "opt2 = torch.optim.SGD(params=model2.parameters(), lr=0.00001)\n",
    "\n",
    "target = torch.tensor([[19.98,20.03,20.76,21.07,21.11,21.24],[21.35,21.48,21.57,21.63,21.79,21.81],\n",
    "                       [21.92,22.02,22.19,22.25,22.37,22.48],[22.56,22.61,22.74,22.89,22.93,23.07],\n",
    "                       [23.16,23.28,23.38,23.46,23.51,23.62],[23.75,23.81,23.94,24.09,24.17,24.28],\n",
    "                       [24.36,24.41,24.53,24.67,24.79,24.82],[24.94,25.06,25.17,25.28,25.34,25.46],\n",
    "                       [25.51,25.63,25.79,25.91,26.06,26.13],[26.25,26.37,26.41,26.58,26.69,26.75]])\n",
    "target.shape\n",
    "#target.type"
   ]
  },
  {
   "cell_type": "code",
   "execution_count": null,
   "id": "dfedcebb",
   "metadata": {},
   "outputs": [],
   "source": [
    "%%time\n",
    "import matplotlib.pyplot as plt\n",
    "#epoch = 200\n",
    "losses = []\n",
    "predictions = []\n",
    "for iter in range(250):\n",
    "    opt1.zero_grad()\n",
    "    opt2.zero_grad()\n",
    "    \n",
    "    activation_ptr = model1_ptr(data_pointer)\n",
    "    activation = activation_ptr.clone().get(request_block=True)\n",
    "    \n",
    "    pred = model2(activation)\n",
    "    \n",
    "    #target = target.detach().numpy()\n",
    "    loss = ((pred - target)**2).sum()\n",
    "   \n",
    "    loss.backward()\n",
    "    \n",
    "    grad_ptr = activation.grad.clone().send(duet)\n",
    "    activation_ptr.backward(grad_ptr)\n",
    "    \n",
    "    opt1.step()\n",
    "    opt2.step()\n",
    "    losses.append(loss.tolist())\n",
    "    predictions.append(pred.tolist())\n",
    "    \n",
    "    print(\"losses: \",losses)\n",
    "    print('Predictions =',pred)\n"
   ]
  },
  {
   "cell_type": "code",
   "execution_count": null,
   "id": "a099b53a",
   "metadata": {},
   "outputs": [],
   "source": [
    "%%time\n",
    "import matplotlib.pyplot as plt\n",
    "#%matplotlib inline\n",
    "#pred = pred.detach().numpy()\n",
    "#pred = pred.numpy()\n",
    "#loss = loss.detach().numpy()\n",
    "# print(\"lost\",losses)\n",
    "# print(\"list\",losses[0].tolist())\n",
    "# print(\"pred\", predictions[0].tolist())\n",
    "# print(\"pred\", predictions[0].ravel().tolist())\n",
    "#model2 = model2.detach().numpy()\n",
    "#target = target.detach().numpy()\n",
    "plt.title('Diameter of Bulb-NFT Hydroponics')\n",
    "plt.plot(losses,color='r')\n",
    "plt.ylabel(\"Loss\")\n",
    "plt.xlabel(\"epoch\")\n",
    "plt.show()"
   ]
  },
  {
   "cell_type": "code",
   "execution_count": null,
   "id": "2a93ea3a",
   "metadata": {},
   "outputs": [],
   "source": []
  }
 ],
 "metadata": {
  "kernelspec": {
   "display_name": "Python 3 (ipykernel)",
   "language": "python",
   "name": "python3"
  },
  "language_info": {
   "codemirror_mode": {
    "name": "ipython",
    "version": 3
   },
   "file_extension": ".py",
   "mimetype": "text/x-python",
   "name": "python",
   "nbconvert_exporter": "python",
   "pygments_lexer": "ipython3",
   "version": "3.7.13"
  }
 },
 "nbformat": 4,
 "nbformat_minor": 5
}
