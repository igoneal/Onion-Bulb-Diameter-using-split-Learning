{
 "cells": [
  {
   "cell_type": "code",
   "execution_count": null,
   "id": "cecdaa1f",
   "metadata": {},
   "outputs": [],
   "source": [
    "import syft as sy\n",
    "duet = sy.duet(loopback=True)"
   ]
  },
  {
   "cell_type": "code",
   "execution_count": null,
   "id": "70c57f8a",
   "metadata": {},
   "outputs": [],
   "source": [
    "import torch\n",
    "import numpy as np\n",
    "#Define and send our dummy input data\n",
    "\n",
    "data = torch.tensor([[18.3,0.11,6.88,10.58,6.93,2.54],[19.8,0.12,6.95,10.61,7.01,2.67],\n",
    "                      [18.3,0.13,7,10.78,7.16,2.79],[16.9,0.14,7.08,11.33,7.29,3.64],\n",
    "                      [18.9,0.15,7.17,11.49,7.45,4.91],[17,0.16,7.25,11.55,8.22,5.48],\n",
    "                      [17.5,0.17,7.31,11.86,8.37,6.5],[17.8,0.18,7.39,12.07,8.6,7.61],\n",
    "                      [18.6,0.19,7.41,12.39,8.75,8.86],[18.4,0.21,7.48,12.51,8.89,9.21]])\n",
    "\n",
    "\n",
    "data.send(duet, tags=[\"dataset\"], description=\"Flow hydroponics system Independent features Temp,WC,NL,N(UC),Fe(UC),B(UC)\", pointable=True)\n",
    "data.shape"
   ]
  },
  {
   "cell_type": "code",
   "execution_count": null,
   "id": "5ab865ea",
   "metadata": {},
   "outputs": [],
   "source": [
    "duet.requests.add_handler(action=\"accept\")"
   ]
  },
  {
   "cell_type": "code",
   "execution_count": null,
   "id": "a1153fa2",
   "metadata": {
    "scrolled": true
   },
   "outputs": [],
   "source": [
    "duet.store.pandas"
   ]
  },
  {
   "cell_type": "code",
   "execution_count": null,
   "id": "2f0f059d",
   "metadata": {},
   "outputs": [],
   "source": []
  }
 ],
 "metadata": {
  "kernelspec": {
   "display_name": "Python 3 (ipykernel)",
   "language": "python",
   "name": "python3"
  },
  "language_info": {
   "codemirror_mode": {
    "name": "ipython",
    "version": 3
   },
   "file_extension": ".py",
   "mimetype": "text/x-python",
   "name": "python",
   "nbconvert_exporter": "python",
   "pygments_lexer": "ipython3",
   "version": "3.7.13"
  }
 },
 "nbformat": 4,
 "nbformat_minor": 5
}
