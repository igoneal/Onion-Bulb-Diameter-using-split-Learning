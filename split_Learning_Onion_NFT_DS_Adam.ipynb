{
 "cells": [
  {
   "cell_type": "code",
   "execution_count": null,
   "id": "c4d26bca",
   "metadata": {},
   "outputs": [],
   "source": [
    "!pip install matplotlib"
   ]
  },
  {
   "cell_type": "code",
   "execution_count": null,
   "id": "5e26bde6",
   "metadata": {},
   "outputs": [],
   "source": [
    "import syft as sy\n",
    "%matplotlib inline\n",
    "duet = sy.join_duet(loopback=True)"
   ]
  },
  {
   "cell_type": "code",
   "execution_count": null,
   "id": "91c0fd20",
   "metadata": {},
   "outputs": [],
   "source": []
  },
  {
   "cell_type": "code",
   "execution_count": null,
   "id": "e694dd4d",
   "metadata": {},
   "outputs": [],
   "source": [
    "class SyNet(sy.Module):\n",
    "    def __init__(self, torch_ref):\n",
    "        super(SyNet, self).__init__(torch_ref=torch_ref)\n",
    "        \n",
    "        self.lin =self.torch_ref.nn.Linear(5,40)\n",
    "    def forward(self, x):\n",
    "        x = self.lin(x)\n",
    "        return x"
   ]
  },
  {
   "cell_type": "code",
   "execution_count": null,
   "id": "a6f187df",
   "metadata": {},
   "outputs": [],
   "source": [
    "import torch\n",
    "model1 = SyNet(torch)\n",
    "model1_ptr = model1.send(duet)"
   ]
  },
  {
   "cell_type": "code",
   "execution_count": null,
   "id": "149dacf4",
   "metadata": {},
   "outputs": [],
   "source": [
    "opt1 = duet.torch.optim.Adam(params=model1_ptr.parameters(),lr=0.01)"
   ]
  },
  {
   "cell_type": "code",
   "execution_count": null,
   "id": "f6316e12",
   "metadata": {
    "scrolled": true
   },
   "outputs": [],
   "source": [
    "duet.store.pandas"
   ]
  },
  {
   "cell_type": "code",
   "execution_count": null,
   "id": "d94e86b0",
   "metadata": {},
   "outputs": [],
   "source": [
    "data_pointer = duet.store[0]"
   ]
  },
  {
   "cell_type": "code",
   "execution_count": null,
   "id": "a486f4ff",
   "metadata": {},
   "outputs": [],
   "source": [
    "import numpy as np"
   ]
  },
  {
   "cell_type": "code",
   "execution_count": null,
   "id": "595fcf25",
   "metadata": {},
   "outputs": [],
   "source": [
    "\n",
    "model2 = torch.nn.Linear(40,5)\n",
    "opt2 = torch.optim.Adam(params=model2.parameters(), lr=0.01)\n",
    "\n",
    "target = torch.tensor([\n",
    "\n",
    "[299.97,328.96,293.81,262.3,102.16],[370,430.45,409.42,362.67,300],[310,320,271.45,231.18,258.52],\n",
    "[223.33,256.26,141.63,258.9,464.03],[435.6,362.03,315.17,310.45,210.03],[226.34,241.52,137.47,182.39,165.67],\n",
    "[172.84,209.42,529.27,369.55,279.7],[256.29,366.23,319.29,214.81,144.73],[177.06,232.17,363.65,379.94,420.3],\n",
    "[321.29,311.8,195.06,203.48,257.57],[234.74,270.2,227.55,242.53,332.94],[308.1,328,575.26,388.77,311.26],\n",
    "[124.23,99.21,130.35,172.7,251.16],[202.73,339.23,127.48,94.33,86.35],[149,192.61,157.29,222.03,336.13],\n",
    "[323.8,218.16,307.93,465.94,615.35],[527.4,269,163.33,181.61,251.65],[290.61,276.32,221.1,35.9,271.77],\n",
    "[393.32,454.23,604.63,521.81,298.9],[197.61,226.77,152.93,122.39,87.3],[89.9,275.9,494.06,462.97,427.9],\n",
    "[377.23,325.57,280.84,339.52,290.07],[271.29,188.93,225.45,178.53,306.55],[427.65,441.93,399.68,505.03,435.87],\n",
    "[240.13,235.83,284.61,244.2,291.1],[302.47,289.32,307.52,279.17,287.68],[299.7,283.84,265.29,239.32,258.77],\n",
    "[261.73,233.39,212.17,480.71,445.9],[211.8,387.1,242.77,224,229.52],[269.57,267.55,273.13,243.35,253.07],\n",
    "[283.03,312.9,307.7,502.55,307.73],[270.03,416.65,392.79,215.74,156.1],[209.65,187.87,261.81,275.1,286.17],\n",
    "[388.68,344.87,268.9,214.94,214.14],[197.26,192.77,175.35,184.43,414.16],[428.65,132.47,379.29,281.5,296],\n",
    "[106.97,141.39,152.55,240.4,407.48],[264.65,368.96,366.42,294.37,181.16],[165.23,281.29,374.29,104.7,414.48],\n",
    "[208,141.81,256.61,290.68,299.03]])\n",
    "\n",
    "\n",
    "target.shape\n",
    "#target.type"
   ]
  },
  {
   "cell_type": "code",
   "execution_count": null,
   "id": "dfedcebb",
   "metadata": {},
   "outputs": [],
   "source": [
    "%%time\n",
    "import matplotlib.pyplot as plt\n",
    "#epoch = 200\n",
    "losses = []\n",
    "predictions = []\n",
    "for iter in range(250):\n",
    "    opt1.zero_grad()\n",
    "    opt2.zero_grad()\n",
    "    \n",
    "    activation_ptr = model1_ptr(data_pointer)\n",
    "    activation = activation_ptr.clone().get(request_block=True)\n",
    "    \n",
    "    pred = model2(activation)\n",
    "    \n",
    "    #target = target.detach().numpy()\n",
    "    loss = ((pred - target)**2).sum()\n",
    "   \n",
    "    loss.backward()\n",
    "    \n",
    "    grad_ptr = activation.grad.clone().send(duet)\n",
    "    activation_ptr.backward(grad_ptr)\n",
    "    \n",
    "    opt1.step()\n",
    "    opt2.step()\n",
    "    losses.append(loss.tolist())\n",
    "    predictions.append(pred.tolist())\n",
    "    \n",
    "    print(\"losses: \",losses)\n",
    "    print('Predictions =',pred)\n"
   ]
  },
  {
   "cell_type": "code",
   "execution_count": null,
   "id": "a099b53a",
   "metadata": {},
   "outputs": [],
   "source": [
    "%%time\n",
    "import matplotlib.pyplot as plt\n",
    "#%matplotlib inline\n",
    "#pred = pred.detach().numpy()\n",
    "#pred = pred.numpy()\n",
    "#loss = loss.detach().numpy()\n",
    "# print(\"lost\",losses)\n",
    "# print(\"list\",losses[0].tolist())\n",
    "# print(\"pred\", predictions[0].tolist())\n",
    "# print(\"pred\", predictions[0].ravel().tolist())\n",
    "#model2 = model2.detach().numpy()\n",
    "#target = target.detach().numpy()\n",
    "plt.title('Diameter of Bulb-NFT Hydroponics')\n",
    "plt.plot(losses,color='r')\n",
    "plt.ylabel(\"Loss\")\n",
    "plt.xlabel(\"epoch\")\n",
    "plt.show()"
   ]
  },
  {
   "cell_type": "code",
   "execution_count": null,
   "id": "c4b5d933",
   "metadata": {},
   "outputs": [],
   "source": [
    "\n"
   ]
  },
  {
   "cell_type": "code",
   "execution_count": null,
   "id": "2a93ea3a",
   "metadata": {},
   "outputs": [],
   "source": []
  }
 ],
 "metadata": {
  "kernelspec": {
   "display_name": "Python 3 (ipykernel)",
   "language": "python",
   "name": "python3"
  },
  "language_info": {
   "codemirror_mode": {
    "name": "ipython",
    "version": 3
   },
   "file_extension": ".py",
   "mimetype": "text/x-python",
   "name": "python",
   "nbconvert_exporter": "python",
   "pygments_lexer": "ipython3",
   "version": "3.7.13"
  }
 },
 "nbformat": 4,
 "nbformat_minor": 5
}
