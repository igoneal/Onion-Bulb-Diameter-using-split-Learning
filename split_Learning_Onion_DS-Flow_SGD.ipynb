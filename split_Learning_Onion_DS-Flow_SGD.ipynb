{
 "cells": [
  {
   "cell_type": "code",
   "execution_count": null,
   "id": "c4d26bca",
   "metadata": {},
   "outputs": [],
   "source": [
    "!pip install matplotlib"
   ]
  },
  {
   "cell_type": "code",
   "execution_count": null,
   "id": "5e26bde6",
   "metadata": {},
   "outputs": [],
   "source": [
    "import syft as sy\n",
    "%matplotlib inline\n",
    "duet = sy.join_duet(loopback=True)"
   ]
  },
  {
   "cell_type": "code",
   "execution_count": null,
   "id": "e694dd4d",
   "metadata": {},
   "outputs": [],
   "source": [
    "class SyNet(sy.Module):\n",
    "    def __init__(self, torch_ref):\n",
    "        super(SyNet, self).__init__(torch_ref=torch_ref)\n",
    "        \n",
    "        self.lin =self.torch_ref.nn.Linear(6,10)\n",
    "    def forward(self, x):\n",
    "        x = self.lin(x)\n",
    "        return x"
   ]
  },
  {
   "cell_type": "code",
   "execution_count": null,
   "id": "a6f187df",
   "metadata": {},
   "outputs": [],
   "source": [
    "import torch\n",
    "model1 = SyNet(torch)\n",
    "model1_ptr = model1.send(duet)"
   ]
  },
  {
   "cell_type": "code",
   "execution_count": null,
   "id": "149dacf4",
   "metadata": {},
   "outputs": [],
   "source": [
    "opt1 = duet.torch.optim.SGD(params=model1_ptr.parameters(),lr=0.00001)"
   ]
  },
  {
   "cell_type": "code",
   "execution_count": null,
   "id": "f6316e12",
   "metadata": {
    "scrolled": true
   },
   "outputs": [],
   "source": [
    "duet.store.pandas"
   ]
  },
  {
   "cell_type": "code",
   "execution_count": null,
   "id": "d94e86b0",
   "metadata": {},
   "outputs": [],
   "source": [
    "data_pointer = duet.store[0]"
   ]
  },
  {
   "cell_type": "code",
   "execution_count": null,
   "id": "a486f4ff",
   "metadata": {},
   "outputs": [],
   "source": [
    "import numpy as np"
   ]
  },
  {
   "cell_type": "code",
   "execution_count": null,
   "id": "595fcf25",
   "metadata": {},
   "outputs": [],
   "source": [
    "\n",
    "model2 = torch.nn.Linear(10,6)\n",
    "opt2 = torch.optim.SGD(params=model2.parameters(), lr=0.00001)\n",
    "\n",
    "target = torch.tensor([[17.62,17.73,17.81,17.95,18.06,18.09],[18.17,18.23,18.29,18.3,18.07,18.16],\n",
    "                      [18.19,18.24,18.28,18.31,18.38,18.42],[18.49,18.57,18.59,18.62,18.64,18.69],\n",
    "                      [18.73,18.77,18.86,19.17,19.23,19.36],[19.45,19.58,19.63,19.75,19.87,19.89],\n",
    "                      [19.95,20.06,20.09,20.13,20.18,20.24],[20.27,20.31,20.39,20.42,20.48,20.56],\n",
    "                      [20.67,20.73,20.79,20.84,20.89,20.93],[20.98,21.06,21.09,21.15,21.19,21.24]])\n",
    "target.shape\n",
    "#target.type"
   ]
  },
  {
   "cell_type": "code",
   "execution_count": null,
   "id": "dfedcebb",
   "metadata": {},
   "outputs": [],
   "source": [
    "%%time\n",
    "import matplotlib.pyplot as plt\n",
    "#epoch = 200\n",
    "losses = []\n",
    "predictions = []\n",
    "for iter in range(250):\n",
    "    opt1.zero_grad()\n",
    "    opt2.zero_grad()\n",
    "    \n",
    "    activation_ptr = model1_ptr(data_pointer)\n",
    "    activation = activation_ptr.clone().get(request_block=True)\n",
    "    \n",
    "    pred = model2(activation)\n",
    "    \n",
    "    #target = target.detach().numpy()\n",
    "    loss = ((pred - target)**2).sum()\n",
    "   \n",
    "    loss.backward()\n",
    "    \n",
    "    grad_ptr = activation.grad.clone().send(duet)\n",
    "    activation_ptr.backward(grad_ptr)\n",
    "    \n",
    "    opt1.step()\n",
    "    opt2.step()\n",
    "    losses.append(loss.tolist())\n",
    "    predictions.append(pred.tolist())\n",
    "    \n",
    "    print(\"losses: \",losses)\n",
    "    print('Predictions =',pred)\n"
   ]
  },
  {
   "cell_type": "code",
   "execution_count": null,
   "id": "a099b53a",
   "metadata": {},
   "outputs": [],
   "source": [
    "%%time\n",
    "import matplotlib.pyplot as plt\n",
    "#%matplotlib inline\n",
    "#pred = pred.detach().numpy()\n",
    "#pred = pred.numpy()\n",
    "#loss = loss.detach().numpy()\n",
    "# print(\"lost\",losses)\n",
    "# print(\"list\",losses[0].tolist())\n",
    "# print(\"pred\", predictions[0].tolist())\n",
    "# print(\"pred\", predictions[0].ravel().tolist())\n",
    "#model2 = model2.detach().numpy()\n",
    "#target = target.detach().numpy()\n",
    "plt.title('Diameter of Bulb-Flow Hydroponics')\n",
    "plt.plot(losses,color='brown')\n",
    "plt.ylabel(\"Loss\")\n",
    "plt.xlabel(\"epoch\")\n",
    "plt.show()"
   ]
  }
 ],
 "metadata": {
  "kernelspec": {
   "display_name": "Python 3 (ipykernel)",
   "language": "python",
   "name": "python3"
  },
  "language_info": {
   "codemirror_mode": {
    "name": "ipython",
    "version": 3
   },
   "file_extension": ".py",
   "mimetype": "text/x-python",
   "name": "python",
   "nbconvert_exporter": "python",
   "pygments_lexer": "ipython3",
   "version": "3.7.13"
  }
 },
 "nbformat": 4,
 "nbformat_minor": 5
}
