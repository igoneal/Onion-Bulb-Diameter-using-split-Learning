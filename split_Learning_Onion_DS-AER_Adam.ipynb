{
 "cells": [
  {
   "cell_type": "code",
   "execution_count": null,
   "id": "c4d26bca",
   "metadata": {},
   "outputs": [],
   "source": [
    "!pip install matplotlib"
   ]
  },
  {
   "cell_type": "code",
   "execution_count": null,
   "id": "5e26bde6",
   "metadata": {},
   "outputs": [],
   "source": [
    "import syft as sy\n",
    "%matplotlib inline\n",
    "duet = sy.join_duet(loopback=True)"
   ]
  },
  {
   "cell_type": "code",
   "execution_count": null,
   "id": "91c0fd20",
   "metadata": {},
   "outputs": [],
   "source": []
  },
  {
   "cell_type": "code",
   "execution_count": null,
   "id": "e694dd4d",
   "metadata": {},
   "outputs": [],
   "source": [
    "class SyNet(sy.Module):\n",
    "    def __init__(self, torch_ref):\n",
    "        super(SyNet, self).__init__(torch_ref=torch_ref)\n",
    "        \n",
    "        self.lin =self.torch_ref.nn.Linear(6,10)\n",
    "    def forward(self, x):\n",
    "        x = self.lin(x)\n",
    "        return x"
   ]
  },
  {
   "cell_type": "code",
   "execution_count": null,
   "id": "a6f187df",
   "metadata": {},
   "outputs": [],
   "source": [
    "import torch\n",
    "model1 = SyNet(torch)\n",
    "model1_ptr = model1.send(duet)"
   ]
  },
  {
   "cell_type": "code",
   "execution_count": null,
   "id": "149dacf4",
   "metadata": {},
   "outputs": [],
   "source": [
    "opt1 = duet.torch.optim.Adam(params=model1_ptr.parameters(),lr=0.01)"
   ]
  },
  {
   "cell_type": "code",
   "execution_count": null,
   "id": "f6316e12",
   "metadata": {
    "scrolled": true
   },
   "outputs": [],
   "source": [
    "duet.store.pandas"
   ]
  },
  {
   "cell_type": "code",
   "execution_count": null,
   "id": "d94e86b0",
   "metadata": {},
   "outputs": [],
   "source": [
    "data_pointer = duet.store[0]"
   ]
  },
  {
   "cell_type": "code",
   "execution_count": null,
   "id": "a486f4ff",
   "metadata": {},
   "outputs": [],
   "source": [
    "import numpy as np"
   ]
  },
  {
   "cell_type": "code",
   "execution_count": null,
   "id": "595fcf25",
   "metadata": {},
   "outputs": [],
   "source": [
    "\n",
    "model2 = torch.nn.Linear(10,6)\n",
    "opt2 = torch.optim.Adam(params=model2.parameters(), lr=0.01)\n",
    "\n",
    "target = torch.tensor([[16.03,16.04,16.05,16.06,16.07,16.08],[16.09,16.1,16.11,16.11,18.22,18.25],\n",
    "                       [18.26,18.27,18.28,18.29,18.3,19.26],[19.32,19.33,19.43,19.51,19.62,19.73],\n",
    "                       [19.81,19.95,20.6,20.61,20.62,20.43],[20.44,21.23,21.41,21.45,21.53,21.64],\n",
    "                       [21.67,21.72,21.75,21.84,21.86,21.88],[21.92,23.77,24.85,25.79,28.07,32.47],\n",
    "                       [35.49,35.85,40.84,44.59,44.77,46.21],[50.8,52.12,53,58.88,60.81,63.25]])\n",
    "\n",
    "target.shape\n",
    "#target.type"
   ]
  },
  {
   "cell_type": "code",
   "execution_count": null,
   "id": "dfedcebb",
   "metadata": {},
   "outputs": [],
   "source": [
    "import matplotlib.pyplot as plt\n",
    "#epoch = 200\n",
    "losses = []\n",
    "predictions = []\n",
    "for iter in range(250):\n",
    "    opt1.zero_grad()\n",
    "    opt2.zero_grad()\n",
    "    \n",
    "    activation_ptr = model1_ptr(data_pointer)\n",
    "    activation = activation_ptr.clone().get(request_block=True)\n",
    "    \n",
    "    pred = model2(activation)\n",
    "    \n",
    "    #target = target.detach().numpy()\n",
    "    loss = ((pred - target)**2).sum()\n",
    "   \n",
    "    loss.backward()\n",
    "    \n",
    "    grad_ptr = activation.grad.clone().send(duet)\n",
    "    activation_ptr.backward(grad_ptr)\n",
    "    \n",
    "    opt1.step()\n",
    "    opt2.step()\n",
    "    losses.append(loss.tolist())\n",
    "    predictions.append(pred.tolist())\n",
    "    \n",
    "    print(\"losses: \",losses)\n",
    "    print('Predictions =',pred)\n"
   ]
  },
  {
   "cell_type": "code",
   "execution_count": null,
   "id": "a099b53a",
   "metadata": {},
   "outputs": [],
   "source": [
    "import matplotlib.pyplot as plt\n",
    "#%matplotlib inline\n",
    "#pred = pred.detach().numpy()\n",
    "#pred = pred.numpy()\n",
    "#loss = loss.detach().numpy()\n",
    "# print(\"lost\",losses)\n",
    "# print(\"list\",losses[0].tolist())\n",
    "# print(\"pred\", predictions[0].tolist())\n",
    "# print(\"pred\", predictions[0].ravel().tolist())\n",
    "#model2 = model2.detach().numpy()\n",
    "#target = target.detach().numpy()\n",
    "plt.title('Diameter of Bulb,AEA Hydroponics')\n",
    "plt.plot(losses, color='green')\n",
    "plt.ylabel(\"Loss\")\n",
    "plt.xlabel(\"epoch\")\n",
    "plt.show()"
   ]
  }
 ],
 "metadata": {
  "kernelspec": {
   "display_name": "Python 3 (ipykernel)",
   "language": "python",
   "name": "python3"
  },
  "language_info": {
   "codemirror_mode": {
    "name": "ipython",
    "version": 3
   },
   "file_extension": ".py",
   "mimetype": "text/x-python",
   "name": "python",
   "nbconvert_exporter": "python",
   "pygments_lexer": "ipython3",
   "version": "3.7.13"
  }
 },
 "nbformat": 4,
 "nbformat_minor": 5
}
