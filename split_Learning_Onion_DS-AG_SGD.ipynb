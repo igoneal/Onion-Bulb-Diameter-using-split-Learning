{
 "cells": [
  {
   "cell_type": "code",
   "execution_count": null,
   "id": "c4d26bca",
   "metadata": {},
   "outputs": [],
   "source": [
    "!pip install matplotlib"
   ]
  },
  {
   "cell_type": "code",
   "execution_count": null,
   "id": "5e26bde6",
   "metadata": {},
   "outputs": [],
   "source": [
    "import syft as sy\n",
    "%matplotlib inline\n",
    "duet = sy.join_duet(loopback=True)"
   ]
  },
  {
   "cell_type": "code",
   "execution_count": null,
   "id": "e694dd4d",
   "metadata": {},
   "outputs": [],
   "source": [
    "class SyNet(sy.Module):\n",
    "    def __init__(self, torch_ref):\n",
    "        super(SyNet, self).__init__(torch_ref=torch_ref)\n",
    "        \n",
    "        self.lin =self.torch_ref.nn.Linear(6,10)\n",
    "    def forward(self, x):\n",
    "        x = self.lin(x)\n",
    "        return x"
   ]
  },
  {
   "cell_type": "code",
   "execution_count": null,
   "id": "a6f187df",
   "metadata": {},
   "outputs": [],
   "source": [
    "import torch\n",
    "model1 = SyNet(torch)\n",
    "model1_ptr = model1.send(duet)"
   ]
  },
  {
   "cell_type": "code",
   "execution_count": null,
   "id": "149dacf4",
   "metadata": {},
   "outputs": [],
   "source": [
    "opt1 = duet.torch.optim.SGD(params=model1_ptr.parameters(),lr=0.00001)"
   ]
  },
  {
   "cell_type": "code",
   "execution_count": null,
   "id": "f6316e12",
   "metadata": {
    "scrolled": true
   },
   "outputs": [],
   "source": [
    "duet.store.pandas"
   ]
  },
  {
   "cell_type": "code",
   "execution_count": null,
   "id": "d94e86b0",
   "metadata": {},
   "outputs": [],
   "source": [
    "data_pointer = duet.store[0]"
   ]
  },
  {
   "cell_type": "code",
   "execution_count": null,
   "id": "a486f4ff",
   "metadata": {},
   "outputs": [],
   "source": [
    "import numpy as np"
   ]
  },
  {
   "cell_type": "code",
   "execution_count": null,
   "id": "595fcf25",
   "metadata": {},
   "outputs": [],
   "source": [
    "\n",
    "model2 = torch.nn.Linear(10,6)\n",
    "opt2 = torch.optim.SGD(params=model2.parameters(), lr=0.00001)\n",
    "\n",
    "target = torch.tensor([[19.77,20.34,20.5,20.62,20.73,20.89],[20.96,21.57,21.68,22.15,23.22,24.59],\n",
    "                       [24.63,24.71,24.88,24.96,25.61,26.78],[27.59,27.85,28.97,36.25,37.19,37.33],\n",
    "                       [37.48,37.56,38.04,39.28,39.33,39.46],[40.27,40.43,40.66,41.77,41.83,41.99],\n",
    "                       [42.51,42.6,42.75,42.86,42.94,43.16],[43.22,43.49,43.94,44.17,45.94,48.38],\n",
    "                       [48.66,52.14,55.33,57.65,61.15,65.09],[68.45,69.5,70.49,71.32,72.41,73.16]])\n",
    "target.shape\n",
    "#target.type"
   ]
  },
  {
   "cell_type": "code",
   "execution_count": null,
   "id": "dfedcebb",
   "metadata": {},
   "outputs": [],
   "source": [
    "%%time\n",
    "import matplotlib.pyplot as plt\n",
    "#epoch = 200\n",
    "losses = []\n",
    "predictions = []\n",
    "for iter in range(250):\n",
    "    opt1.zero_grad()\n",
    "    opt2.zero_grad()\n",
    "    \n",
    "    activation_ptr = model1_ptr(data_pointer)\n",
    "    activation = activation_ptr.clone().get(request_block=True)\n",
    "    \n",
    "    pred = model2(activation)\n",
    "    \n",
    "    #target = target.detach().numpy()\n",
    "    loss = ((pred - target)**2).sum()\n",
    "   \n",
    "    loss.backward()\n",
    "    \n",
    "    grad_ptr = activation.grad.clone().send(duet)\n",
    "    activation_ptr.backward(grad_ptr)\n",
    "    \n",
    "    opt1.step()\n",
    "    opt2.step()\n",
    "    losses.append(loss.tolist())\n",
    "    predictions.append(pred.tolist())\n",
    "    \n",
    "    print(\"losses: \",losses)\n",
    "    print('Predictions =',pred)\n"
   ]
  },
  {
   "cell_type": "code",
   "execution_count": null,
   "id": "a099b53a",
   "metadata": {},
   "outputs": [],
   "source": [
    "%%time\n",
    "import matplotlib.pyplot as plt\n",
    "\n",
    "plt.title('Diameter of Bulb-AG Hydroponics')\n",
    "plt.plot(losses, color='pink')\n",
    "plt.ylabel(\"Loss\")\n",
    "plt.xlabel(\"epoch\")\n",
    "plt.show()"
   ]
  }
 ],
 "metadata": {
  "kernelspec": {
   "display_name": "Python 3 (ipykernel)",
   "language": "python",
   "name": "python3"
  },
  "language_info": {
   "codemirror_mode": {
    "name": "ipython",
    "version": 3
   },
   "file_extension": ".py",
   "mimetype": "text/x-python",
   "name": "python",
   "nbconvert_exporter": "python",
   "pygments_lexer": "ipython3",
   "version": "3.7.13"
  }
 },
 "nbformat": 4,
 "nbformat_minor": 5
}
