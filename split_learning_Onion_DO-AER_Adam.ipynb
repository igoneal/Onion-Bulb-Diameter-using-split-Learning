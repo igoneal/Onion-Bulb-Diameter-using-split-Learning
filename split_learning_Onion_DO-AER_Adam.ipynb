{
 "cells": [
  {
   "cell_type": "code",
   "execution_count": null,
   "id": "cecdaa1f",
   "metadata": {},
   "outputs": [],
   "source": [
    "import syft as sy\n",
    "duet = sy.duet(loopback=True)"
   ]
  },
  {
   "cell_type": "code",
   "execution_count": null,
   "id": "70c57f8a",
   "metadata": {},
   "outputs": [],
   "source": [
    "import torch\n",
    "import numpy as np\n",
    "#Define and send our dummy input data\n",
    "\n",
    "data = torch.tensor([[18.3,0.11,5.75,10.99,7.64,14.89],[19.8,0.22,5.79,11,7.71,15.01],\n",
    "                     [18.3,0.31,5.83,11.01,7.84,15.02],[16.9,0.42,5.87,11.02,8.66,15.03],\n",
    "                     [18.9,0.56,5.91,11.03,8.79,15.05],[17,0.63,5.95,11.04,9.02,15.07],\n",
    "                     [17.5,0.75,5.99,11.05,9.82,15.09],[17.8,0.84,6.03,11.06,10.1,15.13],\n",
    "                     [18.6,1.5,6.07,11.07,10.34,15.16],[18.4,1.6,6.11,11.08,10.47,15.19]])\n",
    "\n",
    "data.send(duet, tags=[\"dataset\"], description=\"Aeroponics(AER) Independent features Temp,WC,NL,N(UC),Fe(UC),B(UC)\", pointable=True)\n",
    "data.shape"
   ]
  },
  {
   "cell_type": "code",
   "execution_count": null,
   "id": "5ab865ea",
   "metadata": {},
   "outputs": [],
   "source": [
    "duet.requests.add_handler(action=\"accept\")"
   ]
  },
  {
   "cell_type": "code",
   "execution_count": null,
   "id": "a1153fa2",
   "metadata": {
    "scrolled": true
   },
   "outputs": [],
   "source": [
    "duet.store.pandas"
   ]
  },
  {
   "cell_type": "code",
   "execution_count": null,
   "id": "2f0f059d",
   "metadata": {},
   "outputs": [],
   "source": []
  }
 ],
 "metadata": {
  "kernelspec": {
   "display_name": "Python 3 (ipykernel)",
   "language": "python",
   "name": "python3"
  },
  "language_info": {
   "codemirror_mode": {
    "name": "ipython",
    "version": 3
   },
   "file_extension": ".py",
   "mimetype": "text/x-python",
   "name": "python",
   "nbconvert_exporter": "python",
   "pygments_lexer": "ipython3",
   "version": "3.7.13"
  }
 },
 "nbformat": 4,
 "nbformat_minor": 5
}
